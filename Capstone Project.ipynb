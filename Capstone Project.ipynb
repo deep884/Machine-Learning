{
 "cells": [
  {
   "cell_type": "code",
   "execution_count": 1,
   "id": "f1ca0d83",
   "metadata": {},
   "outputs": [
    {
     "data": {
      "text/html": [
       "<div>\n",
       "<style scoped>\n",
       "    .dataframe tbody tr th:only-of-type {\n",
       "        vertical-align: middle;\n",
       "    }\n",
       "\n",
       "    .dataframe tbody tr th {\n",
       "        vertical-align: top;\n",
       "    }\n",
       "\n",
       "    .dataframe thead th {\n",
       "        text-align: right;\n",
       "    }\n",
       "</style>\n",
       "<table border=\"1\" class=\"dataframe\">\n",
       "  <thead>\n",
       "    <tr style=\"text-align: right;\">\n",
       "      <th></th>\n",
       "      <th>Unnamed: 0</th>\n",
       "      <th>trans_date_trans_time</th>\n",
       "      <th>cc_num</th>\n",
       "      <th>merchant</th>\n",
       "      <th>category</th>\n",
       "      <th>amt</th>\n",
       "      <th>first</th>\n",
       "      <th>last</th>\n",
       "      <th>gender</th>\n",
       "      <th>street</th>\n",
       "      <th>...</th>\n",
       "      <th>lat</th>\n",
       "      <th>long</th>\n",
       "      <th>city_pop</th>\n",
       "      <th>job</th>\n",
       "      <th>dob</th>\n",
       "      <th>trans_num</th>\n",
       "      <th>unix_time</th>\n",
       "      <th>merch_lat</th>\n",
       "      <th>merch_long</th>\n",
       "      <th>is_fraud</th>\n",
       "    </tr>\n",
       "  </thead>\n",
       "  <tbody>\n",
       "    <tr>\n",
       "      <th>0</th>\n",
       "      <td>0</td>\n",
       "      <td>2019-01-01 00:00:18</td>\n",
       "      <td>2703186189652095</td>\n",
       "      <td>fraud_Rippin, Kub and Mann</td>\n",
       "      <td>misc_net</td>\n",
       "      <td>4.97</td>\n",
       "      <td>Jennifer</td>\n",
       "      <td>Banks</td>\n",
       "      <td>F</td>\n",
       "      <td>561 Perry Cove</td>\n",
       "      <td>...</td>\n",
       "      <td>36.0788</td>\n",
       "      <td>-81.1781</td>\n",
       "      <td>3495</td>\n",
       "      <td>Psychologist, counselling</td>\n",
       "      <td>1988-03-09</td>\n",
       "      <td>0b242abb623afc578575680df30655b9</td>\n",
       "      <td>1325376018</td>\n",
       "      <td>36.011293</td>\n",
       "      <td>-82.048315</td>\n",
       "      <td>0</td>\n",
       "    </tr>\n",
       "    <tr>\n",
       "      <th>1</th>\n",
       "      <td>1</td>\n",
       "      <td>2019-01-01 00:00:44</td>\n",
       "      <td>630423337322</td>\n",
       "      <td>fraud_Heller, Gutmann and Zieme</td>\n",
       "      <td>grocery_pos</td>\n",
       "      <td>107.23</td>\n",
       "      <td>Stephanie</td>\n",
       "      <td>Gill</td>\n",
       "      <td>F</td>\n",
       "      <td>43039 Riley Greens Suite 393</td>\n",
       "      <td>...</td>\n",
       "      <td>48.8878</td>\n",
       "      <td>-118.2105</td>\n",
       "      <td>149</td>\n",
       "      <td>Special educational needs teacher</td>\n",
       "      <td>1978-06-21</td>\n",
       "      <td>1f76529f8574734946361c461b024d99</td>\n",
       "      <td>1325376044</td>\n",
       "      <td>49.159047</td>\n",
       "      <td>-118.186462</td>\n",
       "      <td>0</td>\n",
       "    </tr>\n",
       "    <tr>\n",
       "      <th>2</th>\n",
       "      <td>2</td>\n",
       "      <td>2019-01-01 00:00:51</td>\n",
       "      <td>38859492057661</td>\n",
       "      <td>fraud_Lind-Buckridge</td>\n",
       "      <td>entertainment</td>\n",
       "      <td>220.11</td>\n",
       "      <td>Edward</td>\n",
       "      <td>Sanchez</td>\n",
       "      <td>M</td>\n",
       "      <td>594 White Dale Suite 530</td>\n",
       "      <td>...</td>\n",
       "      <td>42.1808</td>\n",
       "      <td>-112.2620</td>\n",
       "      <td>4154</td>\n",
       "      <td>Nature conservation officer</td>\n",
       "      <td>1962-01-19</td>\n",
       "      <td>a1a22d70485983eac12b5b88dad1cf95</td>\n",
       "      <td>1325376051</td>\n",
       "      <td>43.150704</td>\n",
       "      <td>-112.154481</td>\n",
       "      <td>0</td>\n",
       "    </tr>\n",
       "    <tr>\n",
       "      <th>3</th>\n",
       "      <td>3</td>\n",
       "      <td>2019-01-01 00:01:16</td>\n",
       "      <td>3534093764340240</td>\n",
       "      <td>fraud_Kutch, Hermiston and Farrell</td>\n",
       "      <td>gas_transport</td>\n",
       "      <td>45.00</td>\n",
       "      <td>Jeremy</td>\n",
       "      <td>White</td>\n",
       "      <td>M</td>\n",
       "      <td>9443 Cynthia Court Apt. 038</td>\n",
       "      <td>...</td>\n",
       "      <td>46.2306</td>\n",
       "      <td>-112.1138</td>\n",
       "      <td>1939</td>\n",
       "      <td>Patent attorney</td>\n",
       "      <td>1967-01-12</td>\n",
       "      <td>6b849c168bdad6f867558c3793159a81</td>\n",
       "      <td>1325376076</td>\n",
       "      <td>47.034331</td>\n",
       "      <td>-112.561071</td>\n",
       "      <td>0</td>\n",
       "    </tr>\n",
       "    <tr>\n",
       "      <th>4</th>\n",
       "      <td>4</td>\n",
       "      <td>2019-01-01 00:03:06</td>\n",
       "      <td>375534208663984</td>\n",
       "      <td>fraud_Keeling-Crist</td>\n",
       "      <td>misc_pos</td>\n",
       "      <td>41.96</td>\n",
       "      <td>Tyler</td>\n",
       "      <td>Garcia</td>\n",
       "      <td>M</td>\n",
       "      <td>408 Bradley Rest</td>\n",
       "      <td>...</td>\n",
       "      <td>38.4207</td>\n",
       "      <td>-79.4629</td>\n",
       "      <td>99</td>\n",
       "      <td>Dance movement psychotherapist</td>\n",
       "      <td>1986-03-28</td>\n",
       "      <td>a41d7549acf90789359a9aa5346dcb46</td>\n",
       "      <td>1325376186</td>\n",
       "      <td>38.674999</td>\n",
       "      <td>-78.632459</td>\n",
       "      <td>0</td>\n",
       "    </tr>\n",
       "  </tbody>\n",
       "</table>\n",
       "<p>5 rows × 23 columns</p>\n",
       "</div>"
      ],
      "text/plain": [
       "   Unnamed: 0 trans_date_trans_time            cc_num  \\\n",
       "0           0   2019-01-01 00:00:18  2703186189652095   \n",
       "1           1   2019-01-01 00:00:44      630423337322   \n",
       "2           2   2019-01-01 00:00:51    38859492057661   \n",
       "3           3   2019-01-01 00:01:16  3534093764340240   \n",
       "4           4   2019-01-01 00:03:06   375534208663984   \n",
       "\n",
       "                             merchant       category     amt      first  \\\n",
       "0          fraud_Rippin, Kub and Mann       misc_net    4.97   Jennifer   \n",
       "1     fraud_Heller, Gutmann and Zieme    grocery_pos  107.23  Stephanie   \n",
       "2                fraud_Lind-Buckridge  entertainment  220.11     Edward   \n",
       "3  fraud_Kutch, Hermiston and Farrell  gas_transport   45.00     Jeremy   \n",
       "4                 fraud_Keeling-Crist       misc_pos   41.96      Tyler   \n",
       "\n",
       "      last gender                        street  ...      lat      long  \\\n",
       "0    Banks      F                561 Perry Cove  ...  36.0788  -81.1781   \n",
       "1     Gill      F  43039 Riley Greens Suite 393  ...  48.8878 -118.2105   \n",
       "2  Sanchez      M      594 White Dale Suite 530  ...  42.1808 -112.2620   \n",
       "3    White      M   9443 Cynthia Court Apt. 038  ...  46.2306 -112.1138   \n",
       "4   Garcia      M              408 Bradley Rest  ...  38.4207  -79.4629   \n",
       "\n",
       "   city_pop                                job         dob  \\\n",
       "0      3495          Psychologist, counselling  1988-03-09   \n",
       "1       149  Special educational needs teacher  1978-06-21   \n",
       "2      4154        Nature conservation officer  1962-01-19   \n",
       "3      1939                    Patent attorney  1967-01-12   \n",
       "4        99     Dance movement psychotherapist  1986-03-28   \n",
       "\n",
       "                          trans_num   unix_time  merch_lat  merch_long  \\\n",
       "0  0b242abb623afc578575680df30655b9  1325376018  36.011293  -82.048315   \n",
       "1  1f76529f8574734946361c461b024d99  1325376044  49.159047 -118.186462   \n",
       "2  a1a22d70485983eac12b5b88dad1cf95  1325376051  43.150704 -112.154481   \n",
       "3  6b849c168bdad6f867558c3793159a81  1325376076  47.034331 -112.561071   \n",
       "4  a41d7549acf90789359a9aa5346dcb46  1325376186  38.674999  -78.632459   \n",
       "\n",
       "   is_fraud  \n",
       "0         0  \n",
       "1         0  \n",
       "2         0  \n",
       "3         0  \n",
       "4         0  \n",
       "\n",
       "[5 rows x 23 columns]"
      ]
     },
     "execution_count": 1,
     "metadata": {},
     "output_type": "execute_result"
    }
   ],
   "source": [
    "import pandas as pd\n",
    "import os\n",
    "import seaborn as sns\n",
    "import numpy as np\n",
    "import matplotlib.pyplot as plt\n",
    "\n",
    "df=pd.read_csv('creditcardfraud.csv')#reading creditcardfraud.csv file from file path dataset related to policy and claim,,wwther the policy holder will claim or not\n",
    "df.head()"
   ]
  },
  {
   "cell_type": "code",
   "execution_count": 2,
   "id": "7b167220",
   "metadata": {},
   "outputs": [
    {
     "data": {
      "text/plain": [
       "Index(['Unnamed: 0', 'trans_date_trans_time', 'cc_num', 'merchant', 'category',\n",
       "       'amt', 'first', 'last', 'gender', 'street', 'city', 'state', 'zip',\n",
       "       'lat', 'long', 'city_pop', 'job', 'dob', 'trans_num', 'unix_time',\n",
       "       'merch_lat', 'merch_long', 'is_fraud'],\n",
       "      dtype='object')"
      ]
     },
     "execution_count": 2,
     "metadata": {},
     "output_type": "execute_result"
    }
   ],
   "source": [
    "df.columns"
   ]
  },
  {
   "cell_type": "code",
   "execution_count": 3,
   "id": "210de539",
   "metadata": {},
   "outputs": [],
   "source": [
    "df.drop(columns=['Unnamed: 0','trans_date_trans_time','cc_num','first','last','gender',\n",
    "                'street','city','state','zip','dob','trans_num','unix_time'],inplace=True)"
   ]
  },
  {
   "cell_type": "code",
   "execution_count": 4,
   "id": "301e50a7",
   "metadata": {},
   "outputs": [],
   "source": [
    "x=df.drop(columns=['is_fraud'])\n",
    "y=df['is_fraud']"
   ]
  },
  {
   "cell_type": "code",
   "execution_count": 5,
   "id": "c82afa4b",
   "metadata": {},
   "outputs": [
    {
     "data": {
      "text/plain": [
       "Index(['merchant', 'category', 'amt', 'lat', 'long', 'city_pop', 'job',\n",
       "       'merch_lat', 'merch_long'],\n",
       "      dtype='object')"
      ]
     },
     "execution_count": 5,
     "metadata": {},
     "output_type": "execute_result"
    }
   ],
   "source": [
    "x.columns"
   ]
  },
  {
   "cell_type": "code",
   "execution_count": 6,
   "id": "a566639a",
   "metadata": {},
   "outputs": [],
   "source": [
    "def read_data():#defining afunction so that we can get inout from user \n",
    "    merchant=input('Enter Merchant Name: ')\n",
    "    category=input('Enter Category Name: ')\n",
    "    amount=float(input('Enter amount: '))\n",
    "    lat=float(input('Enter Latitude: '))\n",
    "    long=float(input('Enter Longitude: '))\n",
    "    city_population=float(input('Enter City population: '))\n",
    "    job=input('Enter Job Details: ')\n",
    "    merch_lat=float(input('Enter Merchant Latitude: '))\n",
    "    merch_long=float(input('Enter Merchant Longitude: '))\n",
    "    \n",
    "    user_data={'merchant':{0:merchant},#creating a dictionary as we can store dtat as dataframe after acepting from user\n",
    "              'category':{0:category},\n",
    "              'amt':{0:amount},\n",
    "              'lat':{0:lat},\n",
    "              'long':{0:long},\n",
    "              'city_pop':{0:city_population},\n",
    "              'job':{0:job},\n",
    "              'merch_lat':{0:merch_lat},\n",
    "              'merch_long':{0:merch_long}}\n",
    "    user_data=pd.DataFrame(user_data)\n",
    "    return user_data"
   ]
  },
  {
   "cell_type": "code",
   "execution_count": 7,
   "id": "f426cd6d",
   "metadata": {},
   "outputs": [
    {
     "data": {
      "text/plain": [
       "merchant      0\n",
       "category      0\n",
       "amt           0\n",
       "lat           0\n",
       "long          0\n",
       "city_pop      0\n",
       "job           0\n",
       "merch_lat     0\n",
       "merch_long    0\n",
       "dtype: int64"
      ]
     },
     "execution_count": 7,
     "metadata": {},
     "output_type": "execute_result"
    }
   ],
   "source": [
    "x.isna().sum()#checking for null values"
   ]
  },
  {
   "cell_type": "code",
   "execution_count": 8,
   "id": "51afada7",
   "metadata": {},
   "outputs": [
    {
     "data": {
      "text/plain": [
       "(1296675, 9)"
      ]
     },
     "execution_count": 8,
     "metadata": {},
     "output_type": "execute_result"
    }
   ],
   "source": [
    "x.shape"
   ]
  },
  {
   "cell_type": "code",
   "execution_count": 9,
   "id": "4c987254",
   "metadata": {},
   "outputs": [
    {
     "name": "stdout",
     "output_type": "stream",
     "text": [
      "<class 'pandas.core.frame.DataFrame'>\n",
      "RangeIndex: 1296675 entries, 0 to 1296674\n",
      "Data columns (total 9 columns):\n",
      " #   Column      Non-Null Count    Dtype  \n",
      "---  ------      --------------    -----  \n",
      " 0   merchant    1296675 non-null  object \n",
      " 1   category    1296675 non-null  object \n",
      " 2   amt         1296675 non-null  float64\n",
      " 3   lat         1296675 non-null  float64\n",
      " 4   long        1296675 non-null  float64\n",
      " 5   city_pop    1296675 non-null  int64  \n",
      " 6   job         1296675 non-null  object \n",
      " 7   merch_lat   1296675 non-null  float64\n",
      " 8   merch_long  1296675 non-null  float64\n",
      "dtypes: float64(5), int64(1), object(3)\n",
      "memory usage: 89.0+ MB\n"
     ]
    }
   ],
   "source": [
    "x.info()"
   ]
  },
  {
   "cell_type": "code",
   "execution_count": 10,
   "id": "6a9b6491",
   "metadata": {},
   "outputs": [
    {
     "data": {
      "text/plain": [
       "merchant       object\n",
       "category       object\n",
       "amt           float64\n",
       "lat           float64\n",
       "long          float64\n",
       "city_pop        int64\n",
       "job            object\n",
       "merch_lat     float64\n",
       "merch_long    float64\n",
       "dtype: object"
      ]
     },
     "execution_count": 10,
     "metadata": {},
     "output_type": "execute_result"
    }
   ],
   "source": [
    "x.dtypes"
   ]
  },
  {
   "cell_type": "code",
   "execution_count": 11,
   "id": "b4871bf9",
   "metadata": {},
   "outputs": [],
   "source": [
    "from sklearn.preprocessing import LabelEncoder\n",
    "le_merchant=LabelEncoder()\n",
    "x['merchant']=le_merchant.fit_transform(x['merchant'])\n"
   ]
  },
  {
   "cell_type": "code",
   "execution_count": 12,
   "id": "ee0097b5",
   "metadata": {},
   "outputs": [],
   "source": [
    "le_category=LabelEncoder()\n",
    "x['category']=le_category.fit_transform(x['category'])#create different Label Encoder for different columns in data frame"
   ]
  },
  {
   "cell_type": "code",
   "execution_count": 13,
   "id": "c3d1d303",
   "metadata": {},
   "outputs": [],
   "source": [
    "le_job=LabelEncoder()\n",
    "x['job']=le_job.fit_transform(x['job'])"
   ]
  },
  {
   "cell_type": "code",
   "execution_count": 14,
   "id": "b089245b",
   "metadata": {},
   "outputs": [
    {
     "data": {
      "text/plain": [
       "merchant        int32\n",
       "category        int32\n",
       "amt           float64\n",
       "lat           float64\n",
       "long          float64\n",
       "city_pop        int64\n",
       "job             int32\n",
       "merch_lat     float64\n",
       "merch_long    float64\n",
       "dtype: object"
      ]
     },
     "execution_count": 14,
     "metadata": {},
     "output_type": "execute_result"
    }
   ],
   "source": [
    "x.dtypes"
   ]
  },
  {
   "cell_type": "code",
   "execution_count": 15,
   "id": "44c4b35e",
   "metadata": {},
   "outputs": [
    {
     "data": {
      "text/plain": [
       "<Axes: >"
      ]
     },
     "execution_count": 15,
     "metadata": {},
     "output_type": "execute_result"
    },
    {
     "data": {
      "image/png": "[encoded data removed]",
      "text/plain": [
       "<Figure size 640x480 with 1 Axes>"
      ]
     },
     "metadata": {},
     "output_type": "display_data"
    }
   ],
   "source": [
    "import seaborn as sns\n",
    "\n",
    "sns.boxplot(x['amt'])"
   ]
  },
  {
   "cell_type": "code",
   "execution_count": 16,
   "id": "96773f31",
   "metadata": {},
   "outputs": [
    {
     "data": {
      "text/plain": [
       "<Axes: >"
      ]
     },
     "execution_count": 16,
     "metadata": {},
     "output_type": "execute_result"
    },
    {
     "data": {
      "image/png": "[encoded data removed]",
      "text/plain": [
       "<Figure size 640x480 with 1 Axes>"
      ]
     },
     "metadata": {},
     "output_type": "display_data"
    }
   ],
   "source": [
    "sns.boxplot(x['city_pop'])"
   ]
  },
  {
   "cell_type": "code",
   "execution_count": 17,
   "id": "a131f0fd",
   "metadata": {},
   "outputs": [
    {
     "data": {
      "text/plain": [
       "42.277873790051174"
      ]
     },
     "execution_count": 17,
     "metadata": {},
     "output_type": "execute_result"
    }
   ],
   "source": [
    "x['amt'].skew()"
   ]
  },
  {
   "cell_type": "code",
   "execution_count": 18,
   "id": "f27da6ff",
   "metadata": {},
   "outputs": [
    {
     "data": {
      "text/plain": [
       "5.593853066842104"
      ]
     },
     "execution_count": 18,
     "metadata": {},
     "output_type": "execute_result"
    }
   ],
   "source": [
    "x['city_pop'].skew()"
   ]
  },
  {
   "cell_type": "code",
   "execution_count": 19,
   "id": "34c71edb",
   "metadata": {},
   "outputs": [],
   "source": [
    "from scipy.stats import boxcox\n",
    "x['amt']=boxcox(x['amt'])[0]"
   ]
  },
  {
   "cell_type": "code",
   "execution_count": 20,
   "id": "09c4314d",
   "metadata": {},
   "outputs": [
    {
     "data": {
      "text/plain": [
       "-0.01554494300041963"
      ]
     },
     "execution_count": 20,
     "metadata": {},
     "output_type": "execute_result"
    }
   ],
   "source": [
    "x['amt'].skew()"
   ]
  },
  {
   "cell_type": "code",
   "execution_count": 21,
   "id": "37ae37f5",
   "metadata": {},
   "outputs": [],
   "source": [
    "x['city_pop']=boxcox(x['city_pop'])[0]"
   ]
  },
  {
   "cell_type": "code",
   "execution_count": 22,
   "id": "4cad26c7",
   "metadata": {},
   "outputs": [
    {
     "data": {
      "text/plain": [
       "0.05750405771141424"
      ]
     },
     "execution_count": 22,
     "metadata": {},
     "output_type": "execute_result"
    }
   ],
   "source": [
    "x['city_pop'].skew()"
   ]
  },
  {
   "cell_type": "code",
   "execution_count": 23,
   "id": "00f8f9b0",
   "metadata": {},
   "outputs": [
    {
     "data": {
      "text/plain": [
       "<Axes: >"
      ]
     },
     "execution_count": 23,
     "metadata": {},
     "output_type": "execute_result"
    },
    {
     "data": {
      "image/png": "[encoded data removed]",
      "text/plain": [
       "<Figure size 640x480 with 1 Axes>"
      ]
     },
     "metadata": {},
     "output_type": "display_data"
    }
   ],
   "source": [
    "sns.boxplot(x['city_pop'])"
   ]
  },
  {
   "cell_type": "code",
   "execution_count": 24,
   "id": "51a72271",
   "metadata": {},
   "outputs": [
    {
     "data": {
      "text/plain": [
       "<Axes: >"
      ]
     },
     "execution_count": 24,
     "metadata": {},
     "output_type": "execute_result"
    },
    {
     "data": {
      "image/png": "[encoded data removed]",
      "text/plain": [
       "<Figure size 640x480 with 1 Axes>"
      ]
     },
     "metadata": {},
     "output_type": "display_data"
    }
   ],
   "source": [
    "sns.boxplot(x['amt'])"
   ]
  },
  {
   "cell_type": "code",
   "execution_count": 25,
   "id": "74b2f605",
   "metadata": {},
   "outputs": [
    {
     "data": {
      "text/plain": [
       "<Axes: >"
      ]
     },
     "execution_count": 25,
     "metadata": {},
     "output_type": "execute_result"
    },
    {
     "data": {
      "image/png": "[encoded data removed]",
      "text/plain": [
       "<Figure size 640x480 with 1 Axes>"
      ]
     },
     "metadata": {},
     "output_type": "display_data"
    }
   ],
   "source": [
    "from sklearn.preprocessing import StandardScaler\n",
    "scaler=StandardScaler()\n",
    "x['amt']=scaler.fit_transform(x[['amt']])\n",
    "sns.boxplot(x['amt'])"
   ]
  },
  {
   "cell_type": "code",
   "execution_count": 26,
   "id": "75759ac4",
   "metadata": {},
   "outputs": [
    {
     "data": {
      "text/plain": [
       "is_fraud\n",
       "0    1289169\n",
       "1       7506\n",
       "Name: count, dtype: int64"
      ]
     },
     "execution_count": 26,
     "metadata": {},
     "output_type": "execute_result"
    }
   ],
   "source": [
    "y.value_counts()#to check for data is balanced or not"
   ]
  },
  {
   "cell_type": "code",
   "execution_count": 27,
   "id": "1b6b95bd",
   "metadata": {},
   "outputs": [
    {
     "name": "stderr",
     "output_type": "stream",
     "text": [
      "C:\\Users\\Admin\\AppData\\Local\\Temp\\ipykernel_2984\\904207798.py:2: UserWarning: Boolean Series key will be reindexed to match DataFrame index.\n",
      "  del_rows=y_zero[(x['amt']>1)|(x['amt']<-1)]\n"
     ]
    },
    {
     "data": {
      "text/plain": [
       "is_fraud\n",
       "0    857798\n",
       "1      7506\n",
       "Name: count, dtype: int64"
      ]
     },
     "execution_count": 27,
     "metadata": {},
     "output_type": "execute_result"
    }
   ],
   "source": [
    "y_zero=x[y==0]#All the rows in x and y where y==0\n",
    "del_rows=y_zero[(x['amt']>1)|(x['amt']<-1)]\n",
    "#rows in x where amt column has outliers and also y is zero\n",
    "x.drop(del_rows.index,axis=0,inplace=True)\n",
    "y.drop(del_rows.index,axis=0,inplace=True)\n",
    "y.value_counts()"
   ]
  },
  {
   "cell_type": "code",
   "execution_count": 28,
   "id": "f3e064ef",
   "metadata": {},
   "outputs": [],
   "source": [
    "from sklearn.model_selection import train_test_split\n",
    "xtrain,xtest,ytrain,ytest=train_test_split(x,y,train_size=0.8,random_state=101)"
   ]
  },
  {
   "cell_type": "code",
   "execution_count": 29,
   "id": "575d1f4d",
   "metadata": {},
   "outputs": [],
   "source": [
    "from sklearn.tree import DecisionTreeClassifier\n",
    "\n",
    "model=DecisionTreeClassifier(max_depth=3)#no of split we can give in argument \n",
    "model.fit(xtrain,ytrain)#train the model\n",
    "trainpred=model.predict(xtrain)#get prediction on train data"
   ]
  },
  {
   "cell_type": "code",
   "execution_count": 30,
   "id": "dc97e2f2",
   "metadata": {},
   "outputs": [
    {
     "name": "stdout",
     "output_type": "stream",
     "text": [
      "              precision    recall  f1-score   support\n",
      "\n",
      "           0       1.00      1.00      1.00    686287\n",
      "           1       1.00      0.80      0.89      5956\n",
      "\n",
      "    accuracy                           1.00    692243\n",
      "   macro avg       1.00      0.90      0.94    692243\n",
      "weighted avg       1.00      1.00      1.00    692243\n",
      "\n"
     ]
    }
   ],
   "source": [
    "from sklearn.metrics import classification_report\n",
    "\n",
    "print(classification_report(ytrain,trainpred))"
   ]
  },
  {
   "cell_type": "code",
   "execution_count": 31,
   "id": "853909e3",
   "metadata": {},
   "outputs": [
    {
     "name": "stdout",
     "output_type": "stream",
     "text": [
      "              precision    recall  f1-score   support\n",
      "\n",
      "           0       1.00      1.00      1.00    171511\n",
      "           1       1.00      0.80      0.89      1550\n",
      "\n",
      "    accuracy                           1.00    173061\n",
      "   macro avg       1.00      0.90      0.94    173061\n",
      "weighted avg       1.00      1.00      1.00    173061\n",
      "\n"
     ]
    }
   ],
   "source": [
    "testpred=model.predict(xtest)\n",
    "print(classification_report(ytest,testpred)) #get prediction on test data"
   ]
  },
  {
   "cell_type": "code",
   "execution_count": 32,
   "id": "19042b82",
   "metadata": {},
   "outputs": [],
   "source": [
    "def get_prediction(data):\n",
    "    data['merchant'] = le_merchant.transform(data['merchant'])\n",
    "    data['category'] = le_category.transform(data['category'])\n",
    "    data['job'] = le_job.transform(data['job'])\n",
    "    amount = data[['amt']].values.reshape(1,-1) # 2 dimension\n",
    "    data['amt'] = scaler.transform(amount)\n",
    "    pred = model.predict(data)\n",
    "    if pred==0:\n",
    "        print('It is not fraud')\n",
    "    else:\n",
    "        print('It is fraud')"
   ]
  },
  {
   "cell_type": "code",
   "execution_count": 33,
   "id": "14021d48",
   "metadata": {},
   "outputs": [
    {
     "data": {
      "text/plain": [
       "array(['fraud_Rippin, Kub and Mann', 'misc_net', 4.97, 36.0788, -81.1781,\n",
       "       3495, 'Psychologist, counselling', 36.011293, -82.048315, 0],\n",
       "      dtype=object)"
      ]
     },
     "execution_count": 33,
     "metadata": {},
     "output_type": "execute_result"
    }
   ],
   "source": [
    "df.iloc[0,:].values#pass the data as input in the next cell"
   ]
  },
  {
   "cell_type": "code",
   "execution_count": 34,
   "id": "7ab673dc",
   "metadata": {},
   "outputs": [
    {
     "name": "stdout",
     "output_type": "stream",
     "text": [
      "Enter Merchant Name: fraud_Rippin, Kub and Mann\n",
      "Enter Category Name: misc_net\n",
      "Enter amount:  4.97\n",
      "Enter Latitude: 36.0788\n",
      "Enter Longitude: -81.1781\n",
      "Enter City population: 3495\n",
      "Enter Job Details: Psychologist, counselling\n",
      "Enter Merchant Latitude: 36.011293\n",
      "Enter Merchant Longitude: -82.048315\n",
      "It is not fraud\n"
     ]
    },
    {
     "name": "stderr",
     "output_type": "stream",
     "text": [
      "C:\\Users\\Admin\\anaconda3\\Lib\\site-packages\\sklearn\\base.py:464: UserWarning: X does not have valid feature names, but StandardScaler was fitted with feature names\n",
      "  warnings.warn(\n"
     ]
    }
   ],
   "source": [
    "newdata=read_data()\n",
    "get_prediction(newdata)"
   ]
  },
  {
   "cell_type": "raw",
   "id": "ba724f85",
   "metadata": {},
   "source": [
    "Enter Merchant: fraud_Rippin, Kub and Mann\n",
    "Enter Category: misc_net\n",
    "Enter Amount: 4.97\n",
    "Enter Latitude: 36.0788\n",
    "Enter Longitude: -81.1781\n",
    "Enter City Population: 3495\n",
    "Enter Job: Psychologist, counselling\n",
    "Enter Merchant Latitude: 36.011293\n",
    "Enter Merchant Longitude: -82.048315"
   ]
  },
  {
   "cell_type": "code",
   "execution_count": null,
   "id": "29f68ae0",
   "metadata": {},
   "outputs": [],
   "source": []
  }
 ],
 "metadata": {
  "kernelspec": {
   "display_name": "Python 3 (ipykernel)",
   "language": "python",
   "name": "python3"
  },
  "language_info": {
   "codemirror_mode": {
    "name": "ipython",
    "version": 3
   },
   "file_extension": ".py",
   "mimetype": "text/x-python",
   "name": "python",
   "nbconvert_exporter": "python",
   "pygments_lexer": "ipython3",
   "version": "3.11.5"
  }
 },
 "nbformat": 4,
 "nbformat_minor": 5
}
